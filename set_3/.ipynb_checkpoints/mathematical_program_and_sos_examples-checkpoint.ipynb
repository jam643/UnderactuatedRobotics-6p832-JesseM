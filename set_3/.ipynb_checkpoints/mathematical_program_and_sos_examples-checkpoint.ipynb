{
 "cells": [
  {
   "cell_type": "markdown",
   "metadata": {},
   "source": [
    "## How to use Mathematical Program, and use it to formulate optimizations for robots"
   ]
  },
  {
   "cell_type": "markdown",
   "metadata": {},
   "source": [
    "One area of tools offered in pydrake is the MathematicalProgram interface.  MathematicalProgram is a class that abstracts many different useful types of optimization solvers.  This makes it so from one interface, you can access many different solvers.  The MathematicalProgram component of Drake is comparable to JuMP, in the Julia ecosystem. To get a concise overview of which solvers are supported for which different types of optimization problems, check out [this chart](http://drake.mit.edu/doxygen_cxx/group__solvers.html).  \n",
    "\n",
    "As is the case with hot-off-the-presses code, there is not yet a plethora of documentation, but here we're going to try to provide you with enough sample code to help get you started. \n",
    "\n",
    "In addition to the code snippets below, these two tips are also very useful:\n",
    "\n",
    "- Once you construct a MathematicalProgram object, i.e. `mp = MathematicalProgram()`, the tab completion in your jupyter notebook can be very helpful.  \n",
    "\n",
    " --> For example, let's say you want to know if a MathematicalProgram can print how many decision variables currently exist.  Tab completing on `mp.` and scrolling through, you'll find `num_vars`.  Indeed `mp.num_vars()` will do the trick.\n",
    " \n",
    " --> Want to know which solver MP is currently using under the hood for a particular problem instance?\n",
    " \n",
    "```python\n",
    "result = Solve(mp)\n",
    "print result.is_success()\n",
    "print result.GetSolution(x)\n",
    "print result.get_solver_id().name()\n",
    "```\n",
    "- An additional resource for how to use MathematicalProgram is the tests written for it. There are a significant amount of tests for MathematicalProgram, written in C++.  See [here](https://github.com/RobotLocomotion/drake/blob/master/solvers/test/mathematical_program_test.cc) but also other tests in that folder.  Note however that not all C++ features have pydrake bindings -- for those familiar with pybind, the bindings for MathematicalProgram are generated [here](https://github.com/RobotLocomotion/drake/blob/master/bindings/pydrake/solvers/mathematicalprogram_py.cc), and are demonstrated in numerous tests [here](https://github.com/RobotLocomotion/drake/tree/master/bindings/pydrake/solvers/test). Obviously though the features  demonstrated below all have pydrake bindings.  There are sufficient features currently in pydrake to satisfiably complete the problem set."
   ]
  },
  {
   "cell_type": "markdown",
   "metadata": {},
   "source": [
    "### Okay, but how do I actually do an optimization problem?  \n",
    "\n",
    "How do we translate something written on the board as a linear program, and write it down in code?\n",
    "\n",
    "Here is a very simple example of an LP:\n",
    "\n",
    "\\begin{align*}\n",
    "        \\min_{x} \\ \\ \\ x \\\\\n",
    "        s.t. \\ \\ \\  & x >= 1 \\\\\n",
    "\\end{align*}\n",
    "\n",
    "And the corresponding Mathematical Program code is below."
   ]
  },
  {
   "cell_type": "code",
   "execution_count": 2,
   "metadata": {},
   "outputs": [],
   "source": [
    "from pydrake.all import MathematicalProgram, Solve, Variables, Polynomial\n",
    "import numpy as np\n",
    "import math"
   ]
  },
  {
   "cell_type": "code",
   "execution_count": 30,
   "metadata": {},
   "outputs": [
    {
     "name": "stdout",
     "output_type": "stream",
     "text": [
      "True\n",
      "[ 1.]\n"
     ]
    }
   ],
   "source": [
    "mp = MathematicalProgram()\n",
    "x = mp.NewContinuousVariables(1, \"x\")\n",
    "mp.AddLinearCost(x[0]*1.0)\n",
    "mp.AddLinearConstraint(x[0] >= 1)\n",
    "result = Solve(mp)\n",
    "print result.is_success()\n",
    "print result.GetSolution(x)"
   ]
  },
  {
   "cell_type": "markdown",
   "metadata": {},
   "source": [
    "Note that written down slightly incorrectly, you will not get the answer you were looking for.  What is wrong about the two examples below?"
   ]
  },
  {
   "cell_type": "code",
   "execution_count": 31,
   "metadata": {},
   "outputs": [
    {
     "name": "stdout",
     "output_type": "stream",
     "text": [
      "False\n",
      "[ nan]\n"
     ]
    }
   ],
   "source": [
    "mp = MathematicalProgram()\n",
    "x = mp.NewContinuousVariables(1, \"x\")\n",
    "mp.AddLinearCost(x[0]*1.0)\n",
    "result = Solve(mp)\n",
    "print result.is_success()\n",
    "print result.GetSolution(x)"
   ]
  },
  {
   "cell_type": "code",
   "execution_count": 32,
   "metadata": {},
   "outputs": [
    {
     "name": "stdout",
     "output_type": "stream",
     "text": [
      "False\n",
      "[ -6.17673396e+14]\n"
     ]
    }
   ],
   "source": [
    "mp = MathematicalProgram()\n",
    "x = mp.NewContinuousVariables(1, \"x\")\n",
    "mp.AddLinearCost(x[0]*1.0)\n",
    "mp.AddLinearConstraint(x[0] <= 1)\n",
    "result = Solve(mp)\n",
    "print result.is_success()\n",
    "print result.GetSolution(x)"
   ]
  },
  {
   "cell_type": "markdown",
   "metadata": {},
   "source": [
    "Here's a slightly more complicated example, this one solves a problem that may look familiar to you.\n",
    "\n",
    "This is just one example of how, even though Linear Programs can only handle linear objectives and constraints, you can use them to sample over arbitrarily complex functions, and the samples of those functions can still be just linear constraints / objectives."
   ]
  },
  {
   "cell_type": "code",
   "execution_count": 33,
   "metadata": {},
   "outputs": [
    {
     "name": "stdout",
     "output_type": "stream",
     "text": [
      "True\n",
      "[ 1.23623682]\n"
     ]
    }
   ],
   "source": [
    "mp = MathematicalProgram()\n",
    "alpha = mp.NewContinuousVariables(1, \"alpha\")\n",
    "mp.AddLinearCost(alpha[0]*1.0)\n",
    "for xi in np.arange(-5*np.pi, 5*np.pi+np.pi/8, np.pi/8):\n",
    "    mp.AddLinearConstraint(alpha[0] - math.cos(xi)**2 + math.sin(xi) >= 0)\n",
    "    \n",
    "result = Solve(mp)\n",
    "print result.is_success()\n",
    "print result.GetSolution(alpha)"
   ]
  },
  {
   "cell_type": "markdown",
   "metadata": {},
   "source": [
    "Note the MathematicalProgram is formulated in terms of \"costs\", and will minimize the objective function's costs when calling `Solve()`.  How can we maximize functions? Just add a negative sign:"
   ]
  },
  {
   "cell_type": "code",
   "execution_count": 34,
   "metadata": {},
   "outputs": [
    {
     "name": "stdout",
     "output_type": "stream",
     "text": [
      "True\n",
      "[ 4.]\n"
     ]
    }
   ],
   "source": [
    "mp = MathematicalProgram()\n",
    "x = mp.NewContinuousVariables(1, \"x\")\n",
    "mp.AddLinearCost(-x[0]*1.0)\n",
    "mp.AddLinearConstraint(x[0] <= 4)\n",
    "result = Solve(mp)\n",
    "print result.is_success()\n",
    "print result.GetSolution(x)"
   ]
  },
  {
   "cell_type": "markdown",
   "metadata": {},
   "source": [
    "Now how about if we want to go outside the realm of Linear Programs?  What if we want to do a Quadratic Program?  Recall that the only difference between a quadratic program and a Linear Program is that QPs now allow a quadratic cost, but still only linear objectives."
   ]
  },
  {
   "cell_type": "code",
   "execution_count": 35,
   "metadata": {},
   "outputs": [
    {
     "name": "stdout",
     "output_type": "stream",
     "text": [
      "True\n",
      "[ 3.]\n"
     ]
    }
   ],
   "source": [
    "mp = MathematicalProgram()\n",
    "x = mp.NewContinuousVariables(1, \"x\")\n",
    "mp.AddQuadraticCost((x[0]-3)**2)\n",
    "result = Solve(mp)\n",
    "print result.is_success()\n",
    "print result.GetSolution(x)"
   ]
  },
  {
   "cell_type": "markdown",
   "metadata": {},
   "source": [
    "Note that as above, a QP can be well formulated even without any constraints.  (LPs will have unbounded objectives without constraints.)"
   ]
  },
  {
   "cell_type": "markdown",
   "metadata": {},
   "source": [
    "Note that there is no `QuadraticConstraint` in MathematicalProgram.  Why not?  (What class of problem is a QuadraticConstraint?)"
   ]
  },
  {
   "cell_type": "markdown",
   "metadata": {},
   "source": [
    "But actually although there is no specific function call for it, MathematicalProgram can generally handle a quadratic constraint, and many other different types of constraints, through `AddConstraint`, where inside the argument to the function is a symbolic formula of type `==`, `>=`, or `<=`.  This opens up MathematicalProgram to solve general nonlinear optimization problems."
   ]
  },
  {
   "cell_type": "code",
   "execution_count": 36,
   "metadata": {},
   "outputs": [
    {
     "name": "stdout",
     "output_type": "stream",
     "text": [
      "False\n",
      "[ 0.  0.]\n"
     ]
    }
   ],
   "source": [
    "mp = MathematicalProgram()\n",
    "x = mp.NewContinuousVariables(2, \"x\")\n",
    "mp.AddConstraint((x**2).sum() == 1.)\n",
    "mp.AddLinearCost(x.sum())\n",
    "result = Solve(mp)\n",
    "print result.is_success()\n",
    "print result.GetSolution(x)"
   ]
  },
  {
   "cell_type": "markdown",
   "metadata": {},
   "source": [
    "Alternatively you can even use many numpy operations, including `dot`:"
   ]
  },
  {
   "cell_type": "code",
   "execution_count": 37,
   "metadata": {},
   "outputs": [
    {
     "name": "stdout",
     "output_type": "stream",
     "text": [
      "False\n",
      "[ 0.  0.]\n"
     ]
    }
   ],
   "source": [
    "mp = MathematicalProgram()\n",
    "x = mp.NewContinuousVariables(2, \"x\")\n",
    "mp.AddConstraint(x.dot(x) == 1.)\n",
    "mp.AddLinearCost(x.sum())\n",
    "result = Solve(mp)\n",
    "print result.is_success()\n",
    "print result.GetSolution(x)"
   ]
  },
  {
   "cell_type": "markdown",
   "metadata": {},
   "source": [
    "Note that you can print out useful prints at many steps of interacting with Mathematical Program, for example:"
   ]
  },
  {
   "cell_type": "code",
   "execution_count": 38,
   "metadata": {
    "scrolled": true
   },
   "outputs": [
    {
     "name": "stdout",
     "output_type": "stream",
     "text": [
      "<type 'numpy.ndarray'>\n",
      "[Variable('x(0)', Continuous) Variable('x(1)', Continuous)]\n"
     ]
    }
   ],
   "source": [
    "mp = MathematicalProgram()\n",
    "x = mp.NewContinuousVariables(2, \"x\")\n",
    "print type(x)\n",
    "print x"
   ]
  },
  {
   "cell_type": "code",
   "execution_count": 39,
   "metadata": {},
   "outputs": [
    {
     "name": "stdout",
     "output_type": "stream",
     "text": [
      "[<Expression \"pow(x(0), 2)\"> <Expression \"pow(x(1), 2)\">]\n"
     ]
    }
   ],
   "source": [
    "y = x**2\n",
    "print y"
   ]
  },
  {
   "cell_type": "markdown",
   "metadata": {},
   "source": [
    "# Sum-of-square optimization\n",
    "The sum of square optmization is also supported in the MathematicalProgram interface.\n",
    "\n",
    "However, it looks a little bit different. Let's start with a simple one."
   ]
  },
  {
   "cell_type": "code",
   "execution_count": 40,
   "metadata": {},
   "outputs": [
    {
     "name": "stdout",
     "output_type": "stream",
     "text": [
      "The type of x[0] is <class 'pydrake.symbolic.Variable'>\n",
      "The type of V is  <class 'pydrake.symbolic.Expression'>\n",
      "True\n"
     ]
    }
   ],
   "source": [
    "prog = MathematicalProgram()\n",
    "x = prog.NewIndeterminates(1, \"x\")\n",
    "V = x.dot(x) + 1\n",
    "print 'The type of x[0] is', type(x[0])\n",
    "print 'The type of V is ', type(V)\n",
    "prog.AddSosConstraint(V)\n",
    "result = Solve(prog)\n",
    "print result.is_success()"
   ]
  },
  {
   "cell_type": "markdown",
   "metadata": {},
   "source": [
    "You can think of the `x` above as a monomial, `V` is a polynomial built with `x`. \n",
    "The `V` is a symbolic expression and `x` is a numpy array contains symbolic variable.\n",
    "\n",
    "Now try another example"
   ]
  },
  {
   "cell_type": "code",
   "execution_count": 41,
   "metadata": {},
   "outputs": [
    {
     "name": "stdout",
     "output_type": "stream",
     "text": [
      "False\n"
     ]
    }
   ],
   "source": [
    "prog = MathematicalProgram()\n",
    "x = prog.NewIndeterminates(1, \"x\")\n",
    "V = x.dot(x - 10) + 1\n",
    "prog.AddSosConstraint(V)\n",
    "result = Solve(prog)\n",
    "print result.is_success()"
   ]
  },
  {
   "cell_type": "markdown",
   "metadata": {},
   "source": [
    "Clearly, $x(x - 10) + 1$ doesn't have a sum of square decomposition. Thus, the constraint is no longer feasible.\n",
    "\n",
    "The V functions in the previous examples do not have any decision variables. Sometimes you might want to parameterize the function using a polynomial with given order."
   ]
  },
  {
   "cell_type": "code",
   "execution_count": 59,
   "metadata": {},
   "outputs": [
    {
     "name": "stdout",
     "output_type": "stream",
     "text": [
      "a(4)*1 + a(0)*x(0)^4 + a(1)*x(0)^3 + a(2)*x(0)^2 + a(3)*x(0)\n"
     ]
    }
   ],
   "source": [
    "prog = MathematicalProgram()\n",
    "x = prog.NewIndeterminates(1, \"x\")\n",
    "order = 4\n",
    "poly = prog.NewFreePolynomial(Variables(x), order)\n",
    "print poly"
   ]
  },
  {
   "cell_type": "markdown",
   "metadata": {},
   "source": [
    "The `a` is the coefficient of the polynomial, usually they are the decision variables. If we want our polynomial to be SOS, we can do the following."
   ]
  },
  {
   "cell_type": "code",
   "execution_count": 69,
   "metadata": {},
   "outputs": [
    {
     "name": "stdout",
     "output_type": "stream",
     "text": [
      "True\n"
     ]
    }
   ],
   "source": [
    "prog = MathematicalProgram()\n",
    "x = prog.NewIndeterminates(1, \"x\")\n",
    "order = 4\n",
    "poly = prog.NewFreePolynomial(Variables(x), order)\n",
    "prog.AddSosConstraint(poly)\n",
    "result = Solve(prog)\n",
    "print result.is_success()"
   ]
  },
  {
   "cell_type": "markdown",
   "metadata": {},
   "source": [
    "Equivalently, you can directly define a SOS polynomial. Note that there is something subtle with the type"
   ]
  },
  {
   "cell_type": "code",
   "execution_count": 70,
   "metadata": {},
   "outputs": [
    {
     "name": "stdout",
     "output_type": "stream",
     "text": [
      "The type of lambda is  <class 'pydrake.symbolic.Polynomial'>\n",
      "The type can be used in prog.AddXXXXConstraint is  <class 'pydrake.symbolic.Expression'>\n",
      "True\n"
     ]
    }
   ],
   "source": [
    "prog = MathematicalProgram()\n",
    "x = prog.NewIndeterminates(1, \"x\")\n",
    "order = 4\n",
    "(lambda_sos, constraint) = prog.NewSosPolynomial(Variables(x), order)\n",
    "print 'The type of lambda is ', type(lambda_sos)\n",
    "print 'The type can be used in prog.AddXXXXConstraint is ', type(lambda_sos.ToExpression())\n",
    "prog.AddSosConstraint(-lambda_sos.ToExpression())\n",
    "result = Solve(prog)\n",
    "print result.is_success()"
   ]
  },
  {
   "cell_type": "markdown",
   "metadata": {},
   "source": [
    "Now we are ready to solve a more interesting SOS optimization. The example below verifies the stability of a one dimensional system. This example is from the textbook."
   ]
  },
  {
   "cell_type": "code",
   "execution_count": 3,
   "metadata": {},
   "outputs": [
    {
     "name": "stdout",
     "output_type": "stream",
     "text": [
      "Verified that pow(x(0), 2) < 1.00000000717 is in the region of attraction.\n"
     ]
    }
   ],
   "source": [
    "import math\n",
    "from pydrake.all import (Jacobian, SolutionResult, Variables)\n",
    "\n",
    "def dynamics(x):\n",
    "    return -x + x**3\n",
    "\n",
    "# Construct the program\n",
    "prog = MathematicalProgram()\n",
    "x = prog.NewIndeterminates(1, \"x\")\n",
    "rho = prog.NewContinuousVariables(1, \"rho\")[0]\n",
    "\n",
    "# Define the Lyapunov function.\n",
    "V = x.dot(x)\n",
    "Vdot = Jacobian([V],x).dot(dynamics(x))[0]\n",
    "\n",
    "# Define the Lagrange multipliers.\n",
    "(lambda_sos, constraint) = prog.NewSosPolynomial(Variables(x), 4)\n",
    "\n",
    "# Add sum of square constraint\n",
    "prog.AddSosConstraint((V-rho) * x.dot(x) - lambda_sos.ToExpression() * Vdot)\n",
    "prog.AddLinearCost(-rho)\n",
    "\n",
    "# Solve it\n",
    "result = Solve(prog)\n",
    "assert(result.is_success())\n",
    "print(\"Verified that \" + str(V) + \" < \" + str(result.GetSolution(rho)) +\n",
    "      \" is in the region of attraction.\")\n",
    "assert(math.fabs(result.GetSolution(rho) - 1) < 1e-5)"
   ]
  },
  {
   "cell_type": "markdown",
   "metadata": {},
   "source": [
    "# Good luck!\n",
    "\n",
    "Hopefully that was enough of an initial introduction to help get you started on the orbit transfer problem.\n",
    "\n",
    "Please ask questions on Piazza and/or come to office hours if you have any more questions."
   ]
  }
 ],
 "metadata": {
  "kernelspec": {
   "display_name": "Python 2",
   "language": "python",
   "name": "python2"
  },
  "language_info": {
   "codemirror_mode": {
    "name": "ipython",
    "version": 2
   },
   "file_extension": ".py",
   "mimetype": "text/x-python",
   "name": "python",
   "nbconvert_exporter": "python",
   "pygments_lexer": "ipython2",
   "version": "2.7.12"
  }
 },
 "nbformat": 4,
 "nbformat_minor": 2
}
