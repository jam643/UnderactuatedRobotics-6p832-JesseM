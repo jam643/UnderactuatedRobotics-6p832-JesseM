{
 "cells": [
  {
   "cell_type": "markdown",
   "metadata": {},
   "source": [
    "# One-Legged Hopper\n",
    "\n",
    "In this set, we're going to spend some time with the [one-legged hopper](http://www.ai.mit.edu/projects/leglab/robots/3D_hopper/3D_hopper.html). This system (which is discussed in great detail in [this paper](http://ieeexplore.ieee.org/stamp/stamp.jsp?tp=&arnumber=6313238) -- you can reference that paper for some parts of this set!) enables extremely dynamic walking behavior that bounces between *stance phases* when the foot is on the ground, and *flight phases* when the foot is in the air. The system is dramatically underactuated in both phases, but as you'll see in this problem set, it can still be stabilized!\n",
    "\n",
    "## Dynamics\n",
    "The (planar) one-legged hopper consists of a body with mass $m_b$ and a foot with a mass $m_f$, with the connection between the foot and the body being a single (actuated, torque-controlled) pin joint, and the leg being springy with controllable spring constant.\n",
    "\n",
    "<p align=\"center\">\n",
    "  <img src=\"./planar_hopper.png\" width=\"350\"/>\n",
    "</p>\n",
    "\n",
    "The planar one-legged hopper, diagramed above, has state\n",
    "\n",
    "$$ \\mathbb{x} = \\left[ \\begin{array} \\\\ q \\\\ \\dot q \\end{array}\\right] \\ \\ \\ q = \\left[\\begin{array}\\\\ x \\\\ z \\\\ \\theta \\\\ \\alpha \\\\ l\\end{array}\\right] $$\n",
    "\n",
    "for floating base coordinates $x, z, \\theta$, hip angle $\\alpha$, and leg extension $l$ limited to $\\left[-\\infty, l_{max}\\right]$. This joint limit is implemented with a highly damped one-sided (i.e., only active when the limit is exceeded) spring. The \"springiness\" in the leg is represented by a force $f_{spring} = K_l * (l_{rest} - l)$ that pushes the foot back to full extension when it is compressed. **The system has two control inputs: instantaneous control of $l_{rest}$, and direct torque control of the leg angle.**\n",
    "\n",
    "This system is hybrid due to the joint limit and ground contact, and (usually) oscillates between two contact modes:\n",
    "\n",
    "1) **Flight**: When the foot is not in contact with the ground and the leg is fulled extended to $l = l_{max}$ (these usually occur simultaneously, as in flight there's nothing stopping the leg from passively extending). In this mode, the whole assembly flies through the air under the influence of gravity.\n",
    "\n",
    "2) **Stance**: When the foot is in contact with the ground, a ground reaction force (also represented with a highly damped one-sided spring) pushes the foot out of collision with the ground.\n",
    "\n",
    "## Controlling the Hopper\n",
    "\n",
    "As discussed in lecture, one might think about controlling this system by separating it into three separate control problems:\n",
    "\n",
    "1) Controlling the hopping height of the body by pushing off the ground while in stance phase\n",
    "\n",
    "2) Controlling the horizontal velocity of the body by choosing where to place the foot during the next stance phase (which requires exerting torque during flight phase to aim the leg)\n",
    "\n",
    "3) Controlling the angular velocity of the body by applying a torque to the leg while in stance phase\n",
    "\n",
    "In this section we'll play with a planar model of the 1D hopper. **We've supplied a controller that will take care of regulating the hopping height (using Raibert's very simple controller) by modifying the spring rest length.**"
   ]
  },
  {
   "cell_type": "markdown",
   "metadata": {},
   "source": [
    "\n",
    "## What you have to do\n",
    "\n",
    "Peruse the provided 1d hopper controller class in *hopper_2d.py* and understand what it is currently accomplishing. The *Hopper2dController* system implements a controller for the planar 2d hopper, and the *Simulate2dHopper* function loads in the 2d hopper from a robot description file, hooks up the controller, and runs a simulation. The controller calculates its output in *_DoCalcVectorOutput*, but dispatches its decision making to two other methods: \n",
    "\n",
    "- *ChooseSpringRestLength* picks the instantaneous rest length of the spring. We've written this for you, implementing something like Raibert's original hopper height controller.\n",
    "- *ChooseThighTorque* picks a leg angle torque (which directly controls $\\ddot \\alpha$). You have to write this one!\n",
    "\n",
    "**Fill in ChooseThighTorque with a leg angle torque controller that lateral velocity to the desired lateral velocity, and also keeps the body steady ($\\theta = 0$).** Comment your code thoroughly explaining what your controller is doing -- we reserve the right to dock points for functional but seemingly arbitrary code! The code snippets below are here to help you test your system (feel free to change the initial condition, the simulation duration, the lateral velocity target, the xlim and ylim of the visualizer, etc...). As usual, a battery of tests will be used to help validate your system -- feel free to peruse (but don't modify) *test_set_4.py* to see the conditions we're testing.\n",
    "\n",
    "### Advice:\n",
    "- While you're very welcome to explore (any method that passes the tests is technically OK!), I recommend implementing one of the three controllers described in Section IV of [this paper](http://ieeexplore.ieee.org/stamp/stamp.jsp?tp=&arnumber=6313238&tag=1). In particular, the 3rd controller (\"Servo Attitude\") we found to be particularly effective and simple to implement. Like many \"intuitive\"-style controllers, it has a handful of parameters that must be estimated (e.g. the typical duration of flight and stance phases), which you are free to infer from looking at simulation runs and hard-coding.\n",
    "- Gain tuning will undoubtedly be a stumbling block here. Start as simple as you can: for example, focus first on controlling lateral velocity to 0 (i.e. just maintain balance), then controlling lateral velocity to reasonable speeds, and then finally controlling the body angle to near zero. Only try to tune one number at a time!\n",
    "- Friction with the ground is *not infinite*, so if you see the foot slipping, fix your foot placement or limit your leg angle torques."
   ]
  },
  {
   "cell_type": "code",
   "execution_count": 1,
   "metadata": {},
   "outputs": [
    {
     "ename": "ImportError",
     "evalue": "No module named planar_multibody_visualizer",
     "output_type": "error",
     "traceback": [
      "\u001b[0;31m---------------------------------------------------------------------------\u001b[0m",
      "\u001b[0;31mImportError\u001b[0m                               Traceback (most recent call last)",
      "\u001b[0;32m<ipython-input-1-e4684470e897>\u001b[0m in \u001b[0;36m<module>\u001b[0;34m()\u001b[0m\n\u001b[1;32m      2\u001b[0m \u001b[0mget_ipython\u001b[0m\u001b[0;34m(\u001b[0m\u001b[0;34m)\u001b[0m\u001b[0;34m.\u001b[0m\u001b[0mmagic\u001b[0m\u001b[0;34m(\u001b[0m\u001b[0;34mu'autoreload 2'\u001b[0m\u001b[0;34m)\u001b[0m\u001b[0;34m\u001b[0m\u001b[0m\n\u001b[1;32m      3\u001b[0m \u001b[0mget_ipython\u001b[0m\u001b[0;34m(\u001b[0m\u001b[0;34m)\u001b[0m\u001b[0;34m.\u001b[0m\u001b[0mmagic\u001b[0m\u001b[0;34m(\u001b[0m\u001b[0;34mu'matplotlib notebook'\u001b[0m\u001b[0;34m)\u001b[0m\u001b[0;34m\u001b[0m\u001b[0m\n\u001b[0;32m----> 4\u001b[0;31m \u001b[0;32mimport\u001b[0m \u001b[0mhopper_2d\u001b[0m\u001b[0;34m\u001b[0m\u001b[0m\n\u001b[0m\u001b[1;32m      5\u001b[0m \u001b[0;32mimport\u001b[0m \u001b[0mnumpy\u001b[0m \u001b[0;32mas\u001b[0m \u001b[0mnp\u001b[0m\u001b[0;34m\u001b[0m\u001b[0m\n\u001b[1;32m      6\u001b[0m \u001b[0;32mimport\u001b[0m \u001b[0mmatplotlib\u001b[0m\u001b[0;34m.\u001b[0m\u001b[0mpyplot\u001b[0m \u001b[0;32mas\u001b[0m \u001b[0mplt\u001b[0m\u001b[0;34m\u001b[0m\u001b[0m\n",
      "\u001b[0;32m/notebooks/set_4/hopper_2d.py\u001b[0m in \u001b[0;36m<module>\u001b[0;34m()\u001b[0m\n\u001b[1;32m     30\u001b[0m \u001b[0;32mfrom\u001b[0m \u001b[0mpydrake\u001b[0m\u001b[0;34m.\u001b[0m\u001b[0msystems\u001b[0m\u001b[0;34m.\u001b[0m\u001b[0mrendering\u001b[0m \u001b[0;32mimport\u001b[0m \u001b[0mPoseBundle\u001b[0m\u001b[0;34m\u001b[0m\u001b[0m\n\u001b[1;32m     31\u001b[0m \u001b[0;34m\u001b[0m\u001b[0m\n\u001b[0;32m---> 32\u001b[0;31m \u001b[0;32mfrom\u001b[0m \u001b[0munderactuated\u001b[0m\u001b[0;34m.\u001b[0m\u001b[0mplanar_multibody_visualizer\u001b[0m \u001b[0;32mimport\u001b[0m \u001b[0mPlanarMultibodyVisualizer\u001b[0m\u001b[0;34m\u001b[0m\u001b[0m\n\u001b[0m\u001b[1;32m     33\u001b[0m \u001b[0;34m\u001b[0m\u001b[0m\n\u001b[1;32m     34\u001b[0m \u001b[0;34m\u001b[0m\u001b[0m\n",
      "\u001b[0;31mImportError\u001b[0m: No module named planar_multibody_visualizer"
     ]
    }
   ],
   "source": [
    "%load_ext autoreload\n",
    "%autoreload 2\n",
    "%matplotlib notebook\n",
    "import hopper_2d\n",
    "import numpy as np\n",
    "import matplotlib.pyplot as plt\n",
    "\n",
    "x0 = np.zeros(10)\n",
    "x0[1] = 2\n",
    "x0[4] = 0.5\n",
    "x0[5] = 0.1\n",
    "hopper, controller, state_log = hopper_2d.Simulate2dHopper(x0 = x0,\n",
    "                               duration=10,\n",
    "                               desired_lateral_velocity = 0.5,\n",
    "                               print_period = 1.0)\n",
    "print 'Done'"
   ]
  },
  {
   "cell_type": "code",
   "execution_count": null,
   "metadata": {},
   "outputs": [],
   "source": [
    "from IPython.display import HTML\n",
    "viz = hopper_2d.ConstructVisualizer()\n",
    "ani = viz.animate(state_log, 30, repeat=True)\n",
    "plt.close(viz.fig)\n",
    "HTML(ani.to_html5_video())"
   ]
  },
  {
   "cell_type": "code",
   "execution_count": null,
   "metadata": {},
   "outputs": [],
   "source": [
    "# Plot traces of certain states\n",
    "plt.figure().set_size_inches(10, 5)\n",
    "plt.plot(state_log.sample_times(), state_log.data()[0, :])\n",
    "plt.plot(state_log.sample_times(), state_log.data()[0+5, :])\n",
    "plt.grid(True)\n",
    "plt.legend([\"body_x\", \"body_x_d\"])\n",
    "\n",
    "plt.figure().set_size_inches(10, 5)\n",
    "plt.plot(state_log.sample_times(), state_log.data()[1, :])\n",
    "plt.plot(state_log.sample_times(), state_log.data()[1+5, :])\n",
    "plt.grid(True)\n",
    "plt.legend([\"body_z\", \"body_z_d\"])\n",
    "\n",
    "plt.figure().set_size_inches(10, 5)\n",
    "plt.plot(state_log.sample_times(), state_log.data()[2, :])\n",
    "plt.plot(state_log.sample_times(), state_log.data()[2+5, :])\n",
    "plt.legend([\"body_theta\", \"body_theta_d\"])\n",
    "plt.grid(True)\n",
    "\n",
    "plt.figure().set_size_inches(10, 5)\n",
    "plt.plot(state_log.sample_times(), state_log.data()[4, :])\n",
    "plt.plot(state_log.sample_times(), state_log.data()[4+5, :])\n",
    "plt.legend([\"leg_extension\", \"leg_extension_d\"])\n",
    "plt.xlim([0.0, 1.0])\n",
    "plt.grid(True)\n",
    "plt.show()"
   ]
  },
  {
   "cell_type": "markdown",
   "metadata": {},
   "source": [
    "## Run tests"
   ]
  },
  {
   "cell_type": "code",
   "execution_count": null,
   "metadata": {},
   "outputs": [],
   "source": [
    "import os\n",
    "# Run the tests\n",
    "os.popen(\"python test_set_4.py test_results.json\")\n",
    "\n",
    "# Print the results json for review\n",
    "import test_set_4\n",
    "print test_set_4.pretty_format_json_results(\"test_results.json\")"
   ]
  },
  {
   "cell_type": "code",
   "execution_count": null,
   "metadata": {},
   "outputs": [],
   "source": []
  }
 ],
 "metadata": {
  "kernelspec": {
   "display_name": "Python 2",
   "language": "python",
   "name": "python2"
  },
  "language_info": {
   "codemirror_mode": {
    "name": "ipython",
    "version": 2
   },
   "file_extension": ".py",
   "mimetype": "text/x-python",
   "name": "python",
   "nbconvert_exporter": "python",
   "pygments_lexer": "ipython2",
   "version": "2.7.12"
  }
 },
 "nbformat": 4,
 "nbformat_minor": 2
}
